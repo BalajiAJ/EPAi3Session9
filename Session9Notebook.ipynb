{
 "cells": [
  {
   "cell_type": "code",
   "execution_count": 2,
   "metadata": {},
   "outputs": [],
   "source": [
    "from session9 import *"
   ]
  },
  {
   "cell_type": "code",
   "execution_count": 3,
   "metadata": {},
   "outputs": [],
   "source": [
    "summaryprofilenamedtup = randomprofiles_namedtuple()"
   ]
  },
  {
   "cell_type": "code",
   "execution_count": 4,
   "metadata": {},
   "outputs": [
    {
     "name": "stdout",
     "output_type": "stream",
     "text": [
      "Largest BloodType is :O-\n",
      "Mean Current Location: (Decimal('0.39013140325'), Decimal('1.4315942061'))\n",
      "Oldest Person Age: 115\n",
      "Average Person Age: 57.297\n"
     ]
    }
   ],
   "source": [
    "print(f\"\"\"Largest BloodType is :{summaryprofilenamedtup.largestbloodtype}\\nMean Current Location: {summaryprofilenamedtup.meancurrentlocation}\\nOldest Person Age: {summaryprofilenamedtup.oldestpersonage}\\nAverage Person Age: {summaryprofilenamedtup.averageage}\"\"\")"
   ]
  },
  {
   "cell_type": "code",
   "execution_count": 5,
   "metadata": {},
   "outputs": [
    {
     "name": "stdout",
     "output_type": "stream",
     "text": [
      "Named Tuple With Summary Statistics of Profile\n"
     ]
    }
   ],
   "source": [
    "print(summaryprofilenamedtup.__doc__)"
   ]
  },
  {
   "cell_type": "code",
   "execution_count": 6,
   "metadata": {},
   "outputs": [],
   "source": [
    "summaryprofiledict = randomprofiles_dict()"
   ]
  },
  {
   "cell_type": "code",
   "execution_count": 7,
   "metadata": {},
   "outputs": [
    {
     "name": "stdout",
     "output_type": "stream",
     "text": [
      "Largest BloodType is :O-\n",
      "Mean Current Location: (Decimal('-0.4280127806'), Decimal('-1.7503357633'))\n",
      "Oldest Person Age: 115\n",
      "Average Person Age: 57.3759\n"
     ]
    }
   ],
   "source": [
    "print(f\"\"\"Largest BloodType is :{summaryprofiledict[\"largestbloodtype\"]}\\nMean Current Location: {summaryprofiledict[\"meancurrentlocation\"]}\\nOldest Person Age: {summaryprofiledict[\"oldestpersonage\"]}\\nAverage Person Age: {summaryprofiledict[\"averageage\"]}\"\"\")"
   ]
  },
  {
   "cell_type": "code",
   "execution_count": 10,
   "metadata": {},
   "outputs": [
    {
     "name": "stdout",
     "output_type": "stream",
     "text": [
      "Total Time Taken for Named Tuple:47.8703931\n",
      "Total Time Taken for Dictionary:48.39965559999999\n",
      "Named Tuple is faster than Dict by:0.5292624999999873sec\n"
     ]
    }
   ],
   "source": [
    "start = time.perf_counter()\n",
    "summaryprofilenamedtup = randomprofiles_namedtuple()\n",
    "end = time.perf_counter()\n",
    "start_dict = time.perf_counter()\n",
    "summaryprofiledict = randomprofiles_dict()\n",
    "end_dict = time.perf_counter()\n",
    "print(\"Total Time Taken for Named Tuple:\" + str(end-start))\n",
    "print(\"Total Time Taken for Dictionary:\" + str(end_dict-start_dict))\n",
    "print(\"Named Tuple is faster than Dict by:\" + str((end_dict-start_dict)-(end-start)) + \"sec\")"
   ]
  },
  {
   "cell_type": "markdown",
   "metadata": {},
   "source": [
    "## imaginary stock exchange for top 100 companies"
   ]
  },
  {
   "cell_type": "code",
   "execution_count": 11,
   "metadata": {},
   "outputs": [
    {
     "name": "stdout",
     "output_type": "stream",
     "text": [
      "top100companyindex Open Value: 1531.1\n",
      "top100companyindex High Value: 1576.3\n",
      "top100companyindex Close Value: 1537.33\n",
      "<class 'type'>\n"
     ]
    },
    {
     "data": {
      "text/plain": [
       "session9.top100companyindex"
      ]
     },
     "execution_count": 11,
     "metadata": {},
     "output_type": "execute_result"
    }
   ],
   "source": [
    "top100companystock()"
   ]
  },
  {
   "cell_type": "code",
   "execution_count": 12,
   "metadata": {},
   "outputs": [
    {
     "data": {
      "text/plain": [
       "[Stock(compname='Richards-Doyle', marketcap=24.77, date1=<class 'datetime.date'>, scrip='Ric', open=2401.61, high=2425.6261, close=2352.857317),\n",
       " Stock(compname='Ruiz Group', marketcap=87.84, date1=<class 'datetime.date'>, scrip='Rui', open=2278.3, high=2392.215, close=2272.6042500000003),\n",
       " Stock(compname='Smith Inc', marketcap=30.98, date1=<class 'datetime.date'>, scrip='Smi', open=2645.26, high=2698.1652000000004, close=2698.1652000000004),\n",
       " Stock(compname='Smith-Soto', marketcap=2.68, date1=<class 'datetime.date'>, scrip='Smi', open=1896.84, high=1972.7135999999998, close=1933.2593279999999),\n",
       " Stock(compname='Cobb, Graves and Kelly', marketcap=31.28, date1=<class 'datetime.date'>, scrip='Cob', open=319.72, high=332.5088, close=315.88336),\n",
       " Stock(compname='Tucker-Hogan', marketcap=29.8, date1=<class 'datetime.date'>, scrip='Tuc', open=568.18, high=573.8617999999999, close=562.384564),\n",
       " Stock(compname='Roberts-Mack', marketcap=53.86, date1=<class 'datetime.date'>, scrip='Rob', open=2208.56, high=2296.9024, close=2227.995328),\n",
       " Stock(compname='Mason-Mora', marketcap=93.41, date1=<class 'datetime.date'>, scrip='Mas', open=943.34, high=952.7734, close=943.245666),\n",
       " Stock(compname='Dean, Moore and Schmidt', marketcap=14.49, date1=<class 'datetime.date'>, scrip='Dea', open=1908.43, high=2003.8515, close=1923.69744),\n",
       " Stock(compname='Weaver LLC', marketcap=8.21, date1=<class 'datetime.date'>, scrip='Wea', open=264.14, high=274.7056, close=260.97032),\n",
       " Stock(compname='Davenport, Ewing and Robinson', marketcap=91.49, date1=<class 'datetime.date'>, scrip='Dav', open=666.67, high=700.0034999999999, close=700.0034999999999),\n",
       " Stock(compname='Santos-Rojas', marketcap=57.77, date1=<class 'datetime.date'>, scrip='San', open=451.97, high=465.5291, close=456.218518),\n",
       " Stock(compname='Navarro Inc', marketcap=95.54, date1=<class 'datetime.date'>, scrip='Nav', open=2874.81, high=2989.8024, close=2900.1083280000003),\n",
       " Stock(compname='Scott, Flores and Moore', marketcap=28.84, date1=<class 'datetime.date'>, scrip='Sco', open=125.21, high=126.46209999999999, close=126.46209999999999),\n",
       " Stock(compname='Jennings-Hebert', marketcap=20.26, date1=<class 'datetime.date'>, scrip='Jen', open=1539.96, high=1586.1588, close=1506.85086),\n",
       " Stock(compname='Tapia-Garcia', marketcap=54.76, date1=<class 'datetime.date'>, scrip='Tap', open=1135.47, high=1146.8247000000001, close=1123.888206),\n",
       " Stock(compname='Parks Ltd', marketcap=70.09, date1=<class 'datetime.date'>, scrip='Par', open=159.25, high=160.8425, close=152.800375),\n",
       " Stock(compname='Carson PLC', marketcap=70.86, date1=<class 'datetime.date'>, scrip='Car', open=2749.07, high=2831.5421, close=2746.5958370000003),\n",
       " Stock(compname='Carter Inc', marketcap=41.77, date1=<class 'datetime.date'>, scrip='Car', open=1819.05, high=1891.812, close=1853.9757599999998),\n",
       " Stock(compname='Schroeder-Campbell', marketcap=59.14, date1=<class 'datetime.date'>, scrip='Sch', open=2331.35, high=2377.977, close=2377.977),\n",
       " Stock(compname='Bennett, Rosales and Schmidt', marketcap=12.53, date1=<class 'datetime.date'>, scrip='Ben', open=1432.71, high=1447.0371, close=1432.5667290000001),\n",
       " Stock(compname='Avila-Ortiz', marketcap=36.02, date1=<class 'datetime.date'>, scrip='Avi', open=706.7, high=727.9010000000001, close=720.6219900000001),\n",
       " Stock(compname='Hart, Gill and Rhodes', marketcap=31.14, date1=<class 'datetime.date'>, scrip='Har', open=815.26, high=823.4126, close=806.944348),\n",
       " Stock(compname='Scott-Pace', marketcap=47.95, date1=<class 'datetime.date'>, scrip='Sco', open=2798.09, high=2826.0709, close=2797.810191),\n",
       " Stock(compname='Dickson PLC', marketcap=10.15, date1=<class 'datetime.date'>, scrip='Dic', open=2641.7, high=2747.368, close=2747.368),\n",
       " Stock(compname='Jacobs-Ryan', marketcap=14.84, date1=<class 'datetime.date'>, scrip='Jac', open=591.99, high=621.5895, close=596.7259200000001),\n",
       " Stock(compname='Simpson, Carpenter and Mann', marketcap=96.97, date1=<class 'datetime.date'>, scrip='Sim', open=743.4, high=765.702, close=765.702),\n",
       " Stock(compname='Rodriguez, Anderson and Jenkins', marketcap=43.33, date1=<class 'datetime.date'>, scrip='Rod', open=1710.25, high=1761.5575, close=1691.0952),\n",
       " Stock(compname='Rodriguez, Hunter and Alvarado', marketcap=1.54, date1=<class 'datetime.date'>, scrip='Rod', open=1009.17, high=1039.4451, close=1029.050649),\n",
       " Stock(compname='Lopez-Taylor', marketcap=38.07, date1=<class 'datetime.date'>, scrip='Lop', open=586.62, high=592.4862, close=580.636476),\n",
       " Stock(compname='Hayes, Evans and Durham', marketcap=48.16, date1=<class 'datetime.date'>, scrip='Hay', open=1069.63, high=1080.3263000000002, close=1037.113248),\n",
       " Stock(compname='Everett Group', marketcap=95.4, date1=<class 'datetime.date'>, scrip='Eve', open=1948.52, high=1968.0052, close=1869.6049400000002),\n",
       " Stock(compname='Parker, Rivera and Williams', marketcap=13.34, date1=<class 'datetime.date'>, scrip='Par', open=2850.26, high=2878.7626, close=2849.974974),\n",
       " Stock(compname='Martinez, Palmer and Lawson', marketcap=96.24, date1=<class 'datetime.date'>, scrip='Mar', open=788.91, high=812.5772999999999, close=812.5772999999999),\n",
       " Stock(compname='Santiago Group', marketcap=6.26, date1=<class 'datetime.date'>, scrip='San', open=2291.64, high=2406.2219999999998, close=2285.9109),\n",
       " Stock(compname='Perez, Townsend and Jones', marketcap=59.5, date1=<class 'datetime.date'>, scrip='Per', open=1895.68, high=1952.5504, close=1893.973888),\n",
       " Stock(compname='Johnson-Gillespie', marketcap=34.36, date1=<class 'datetime.date'>, scrip='Joh', open=2833.46, high=2890.1292, close=2890.1292),\n",
       " Stock(compname='Brown Group', marketcap=98.82, date1=<class 'datetime.date'>, scrip='Bro', open=1436.0, high=1507.8, close=1507.8),\n",
       " Stock(compname='Ramirez Group', marketcap=81.89, date1=<class 'datetime.date'>, scrip='Ram', open=642.99, high=668.7096, close=641.961216),\n",
       " Stock(compname='Smith-Garza', marketcap=34.27, date1=<class 'datetime.date'>, scrip='Smi', open=150.62, high=152.1262, close=147.56241400000002),\n",
       " Stock(compname='Ford Ltd', marketcap=77.72, date1=<class 'datetime.date'>, scrip='For', open=196.52, high=200.4504, close=198.445896),\n",
       " Stock(compname='Ward-Brown', marketcap=12.7, date1=<class 'datetime.date'>, scrip='War', open=2722.46, high=2776.9092, close=2693.601924),\n",
       " Stock(compname='Hall-Kirby', marketcap=64.53, date1=<class 'datetime.date'>, scrip='Hal', open=1565.12, high=1612.0736, close=1579.832128),\n",
       " Stock(compname='Ross, Sharp and Simpson', marketcap=96.95, date1=<class 'datetime.date'>, scrip='Ros', open=2855.82, high=2941.4946, close=2912.079654),\n",
       " Stock(compname='Rogers, Fletcher and Small', marketcap=28.38, date1=<class 'datetime.date'>, scrip='Rog', open=1930.37, high=1949.6736999999998, close=1852.190015),\n",
       " Stock(compname='Jordan PLC', marketcap=6.32, date1=<class 'datetime.date'>, scrip='Jor', open=1239.15, high=1263.933, close=1238.65434),\n",
       " Stock(compname='Foster-Monroe', marketcap=2.04, date1=<class 'datetime.date'>, scrip='Fos', open=1926.04, high=1983.8211999999999, close=1963.9829879999998),\n",
       " Stock(compname='Nash-Reed', marketcap=9.53, date1=<class 'datetime.date'>, scrip='Nas', open=2445.37, high=2494.2774, close=2394.506304),\n",
       " Stock(compname='Stevens Inc', marketcap=57.44, date1=<class 'datetime.date'>, scrip='Ste', open=473.17, high=482.6334, close=463.328064),\n",
       " Stock(compname='Morton, Li and Robinson', marketcap=67.02, date1=<class 'datetime.date'>, scrip='Mor', open=1381.39, high=1422.8317000000002, close=1365.9184320000002),\n",
       " Stock(compname='Valdez and Sons', marketcap=59.2, date1=<class 'datetime.date'>, scrip='Val', open=2071.15, high=2153.996, close=2089.37612),\n",
       " Stock(compname='Mills-Russo', marketcap=85.91, date1=<class 'datetime.date'>, scrip='Mil', open=272.74, high=278.1948, close=269.848956),\n",
       " Stock(compname='Carter Ltd', marketcap=11.85, date1=<class 'datetime.date'>, scrip='Car', open=1726.54, high=1795.6016, close=1741.733552),\n",
       " Stock(compname='Olson-Whitney', marketcap=52.04, date1=<class 'datetime.date'>, scrip='Ols', open=1778.97, high=1867.9185, close=1867.9185),\n",
       " Stock(compname='Campos, Sims and Welch', marketcap=5.99, date1=<class 'datetime.date'>, scrip='Cam', open=878.12, high=886.9012, close=860.294164),\n",
       " Stock(compname='Welch Group', marketcap=53.48, date1=<class 'datetime.date'>, scrip='Wel', open=612.3, high=630.669, close=605.44224),\n",
       " Stock(compname='Smith LLC', marketcap=68.87, date1=<class 'datetime.date'>, scrip='Smi', open=531.45, high=552.7080000000001, close=552.7080000000001),\n",
       " Stock(compname='Jordan-Turner', marketcap=62.02, date1=<class 'datetime.date'>, scrip='Jor', open=1706.84, high=1792.1819999999998, close=1792.1819999999998),\n",
       " Stock(compname='Morales Inc', marketcap=87.85, date1=<class 'datetime.date'>, scrip='Mor', open=2203.18, high=2313.339, close=2197.67205),\n",
       " Stock(compname='Mcclain-Lynch', marketcap=69.24, date1=<class 'datetime.date'>, scrip='Mcc', open=2262.45, high=2285.0744999999997, close=2193.67152),\n",
       " Stock(compname='Sanders PLC', marketcap=89.32, date1=<class 'datetime.date'>, scrip='San', open=2375.06, high=2470.0624, close=2445.3617759999997),\n",
       " Stock(compname='Burton Ltd', marketcap=69.41, date1=<class 'datetime.date'>, scrip='Bur', open=2351.75, high=2398.785, close=2278.84575),\n",
       " Stock(compname='Johnson Ltd', marketcap=50.02, date1=<class 'datetime.date'>, scrip='Joh', open=698.59, high=705.5759, close=705.5759),\n",
       " Stock(compname='Munoz-Stuart', marketcap=98.81, date1=<class 'datetime.date'>, scrip='Mun', open=1170.71, high=1217.5384000000001, close=1205.3630160000002),\n",
       " Stock(compname='Olson LLC', marketcap=91.28, date1=<class 'datetime.date'>, scrip='Ols', open=2456.75, high=2530.4525, close=2454.538925),\n",
       " Stock(compname='Webster, Williams and Simmons', marketcap=7.06, date1=<class 'datetime.date'>, scrip='Web', open=1426.73, high=1498.0665, close=1423.163175),\n",
       " Stock(compname='Klein Ltd', marketcap=99.72, date1=<class 'datetime.date'>, scrip='Kle', open=1440.42, high=1469.2284, close=1410.459264),\n",
       " Stock(compname='Anderson, Anderson and Horn', marketcap=99.68, date1=<class 'datetime.date'>, scrip='And', open=222.58, high=224.8058, close=224.8058),\n",
       " Stock(compname='King, Adams and Boyd', marketcap=72.81, date1=<class 'datetime.date'>, scrip='Kin', open=818.87, high=859.8135, close=851.215365),\n",
       " Stock(compname='Taylor, Lopez and Wyatt', marketcap=63.93, date1=<class 'datetime.date'>, scrip='Tay', open=2440.21, high=2489.0142, close=2464.124058),\n",
       " Stock(compname='Nelson, Stout and Diaz', marketcap=57.79, date1=<class 'datetime.date'>, scrip='Nel', open=1779.08, high=1868.0339999999999, close=1868.0339999999999),\n",
       " Stock(compname='Johnson Inc', marketcap=31.04, date1=<class 'datetime.date'>, scrip='Joh', open=1905.27, high=2000.5335, close=1980.528165),\n",
       " Stock(compname='Cervantes LLC', marketcap=79.59, date1=<class 'datetime.date'>, scrip='Cer', open=2493.99, high=2618.6895, close=2618.6895),\n",
       " Stock(compname='Wilson, Powell and Scott', marketcap=15.11, date1=<class 'datetime.date'>, scrip='Wil', open=256.14, high=263.82419999999996, close=261.18595799999997),\n",
       " Stock(compname='Atkinson LLC', marketcap=63.58, date1=<class 'datetime.date'>, scrip='Atk', open=798.46, high=806.4446, close=774.186816),\n",
       " Stock(compname='Hernandez Ltd', marketcap=72.41, date1=<class 'datetime.date'>, scrip='Her', open=258.83, high=271.7715, close=258.182925),\n",
       " Stock(compname='Reed-Cruz', marketcap=34.04, date1=<class 'datetime.date'>, scrip='Ree', open=1800.92, high=1872.9568000000002, close=1779.30896),\n",
       " Stock(compname='Pena-Smith', marketcap=94.44, date1=<class 'datetime.date'>, scrip='Pen', open=2767.52, high=2822.8704, close=2709.955584),\n",
       " Stock(compname='Mccullough, Farrell and Anderson', marketcap=89.93, date1=<class 'datetime.date'>, scrip='Mcc', open=466.87, high=471.5387, close=471.5387),\n",
       " Stock(compname='Williams-Hartman', marketcap=67.43, date1=<class 'datetime.date'>, scrip='Wil', open=1388.02, high=1443.5408, close=1385.799168),\n",
       " Stock(compname='Lopez, Gutierrez and Pham', marketcap=51.17, date1=<class 'datetime.date'>, scrip='Lop', open=1759.16, high=1776.7516, close=1776.7516),\n",
       " Stock(compname='Hopkins-Phillips', marketcap=25.24, date1=<class 'datetime.date'>, scrip='Hop', open=581.75, high=610.8375, close=580.295625),\n",
       " Stock(compname='Powell PLC', marketcap=69.77, date1=<class 'datetime.date'>, scrip='Pow', open=152.7, high=158.808, close=155.63183999999998),\n",
       " Stock(compname='Murphy, Rowe and Leonard', marketcap=30.72, date1=<class 'datetime.date'>, scrip='Mur', open=500.83, high=525.8715, close=504.83664),\n",
       " Stock(compname='Sullivan, Gray and Munoz', marketcap=55.14, date1=<class 'datetime.date'>, scrip='Sul', open=2988.06, high=3107.5824, close=2983.2791039999997),\n",
       " Stock(compname='Jarvis-Lane', marketcap=32.4, date1=<class 'datetime.date'>, scrip='Jar', open=1905.7, high=1924.757, close=1847.76672),\n",
       " Stock(compname='Stanley, Mooney and French', marketcap=18.89, date1=<class 'datetime.date'>, scrip='Sta', open=2714.04, high=2741.1804, close=2686.356792),\n",
       " Stock(compname='Williams-Johnson', marketcap=4.13, date1=<class 'datetime.date'>, scrip='Wil', open=2187.56, high=2209.4356, close=2209.4356),\n",
       " Stock(compname='Lopez-Clark', marketcap=2.29, date1=<class 'datetime.date'>, scrip='Lop', open=1125.99, high=1171.0296, close=1124.188416),\n",
       " Stock(compname='Hughes LLC', marketcap=29.6, date1=<class 'datetime.date'>, scrip='Hug', open=961.44, high=999.8976, close=949.90272),\n",
       " Stock(compname='Payne-Burgess', marketcap=78.86, date1=<class 'datetime.date'>, scrip='Pay', open=756.0, high=763.56, close=748.2887999999999),\n",
       " Stock(compname='Morton-Wallace', marketcap=50.6, date1=<class 'datetime.date'>, scrip='Mor', open=710.04, high=731.3412, close=694.77414),\n",
       " Stock(compname='Vincent-Ramirez', marketcap=73.49, date1=<class 'datetime.date'>, scrip='Vin', open=1535.44, high=1566.1488000000002, close=1566.1488000000002),\n",
       " Stock(compname='Reid, Roth and Stevens', marketcap=52.07, date1=<class 'datetime.date'>, scrip='Rei', open=1331.7, high=1384.968, close=1357.26864),\n",
       " Stock(compname='Matthews-Rodriguez', marketcap=69.61, date1=<class 'datetime.date'>, scrip='Mat', open=326.07, high=335.8521, close=322.418016),\n",
       " Stock(compname='Gamble-Hill', marketcap=41.7, date1=<class 'datetime.date'>, scrip='Gam', open=2622.84, high=2649.0684, close=2622.5777160000002),\n",
       " Stock(compname='Long, Clayton and Rodriguez', marketcap=96.04, date1=<class 'datetime.date'>, scrip='Lon', open=421.68, high=442.764, close=425.05344),\n",
       " Stock(compname='Cortez-Hunter', marketcap=71.88, date1=<class 'datetime.date'>, scrip='Cor', open=2837.53, high=2922.6559, close=2922.6559),\n",
       " Stock(compname='Brown Group', marketcap=66.45, date1=<class 'datetime.date'>, scrip='Bro', open=2830.83, high=2972.3714999999997, close=2972.3714999999997),\n",
       " Stock(compname='Murray, Kelly and Reed', marketcap=53.53, date1=<class 'datetime.date'>, scrip='Mur', open=889.34, high=924.9136000000001, close=878.6679200000001)]"
      ]
     },
     "execution_count": 12,
     "metadata": {},
     "output_type": "execute_result"
    }
   ],
   "source": [
    "top100companydata()"
   ]
  },
  {
   "cell_type": "code",
   "execution_count": null,
   "metadata": {},
   "outputs": [],
   "source": []
  }
 ],
 "metadata": {
  "kernelspec": {
   "display_name": "Python 3",
   "language": "python",
   "name": "python3"
  },
  "language_info": {
   "codemirror_mode": {
    "name": "ipython",
    "version": 3
   },
   "file_extension": ".py",
   "mimetype": "text/x-python",
   "name": "python",
   "nbconvert_exporter": "python",
   "pygments_lexer": "ipython3",
   "version": "3.6.5"
  }
 },
 "nbformat": 4,
 "nbformat_minor": 2
}
